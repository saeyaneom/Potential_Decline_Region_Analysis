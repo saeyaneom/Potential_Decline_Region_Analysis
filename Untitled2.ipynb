{
 "cells": [
  {
   "cell_type": "code",
   "execution_count": 2,
   "id": "213b2a78",
   "metadata": {},
   "outputs": [],
   "source": [
    "import pandas as pd\n",
    "import numpy as np"
   ]
  },
  {
   "cell_type": "code",
   "execution_count": 3,
   "id": "23b4cbfb",
   "metadata": {},
   "outputs": [],
   "source": [
    "df_p = pd.read_csv('clusterafter.csv')\n",
    "df_i = pd.read_csv('clusterafter산업경제.csv')\n",
    "df_e = pd.read_csv('clusterafter물리환경.csv')"
   ]
  },
  {
   "cell_type": "code",
   "execution_count": 4,
   "id": "d4ca98dc",
   "metadata": {},
   "outputs": [],
   "source": [
    "\n",
    "df_p.rename(columns = {'cluster' : 'cluster_인구사회'}, inplace = True)\n",
    "df_i.rename(columns = {'cluster' : 'cluster_산업경제'}, inplace = True)\n",
    "df_e.rename(columns = {'cluster' : 'cluster_물리환경'}, inplace = True)"
   ]
  },
  {
   "cell_type": "code",
   "execution_count": 5,
   "id": "05a2049e",
   "metadata": {},
   "outputs": [
    {
     "data": {
      "text/plain": [
       "Index(['Unnamed: 0', '시군구명', '산업경제', '과거대비인구변화', '최근인구변화', '과거대비사업체변화',\n",
       "       '최근사업체변화', '노후건축물비율', '시군구코드', '20세미만인구성장률', '재정자립도', '경제활동인구대비종사자수',\n",
       "       '특허출원건수', '1인당주민세', '1인당공원면적', '도로밀도', '1만인당공무원수', '주민등록인구전출입률',\n",
       "       '폐기물재활용률', '1만인당사회복지시설수', '1만인당문화체육시설수', '1만인당축제건수', 'cluster_산업경제'],\n",
       "      dtype='object')"
      ]
     },
     "execution_count": 5,
     "metadata": {},
     "output_type": "execute_result"
    }
   ],
   "source": [
    "df_i.columns"
   ]
  },
  {
   "cell_type": "code",
   "execution_count": 6,
   "id": "14d30dca",
   "metadata": {},
   "outputs": [],
   "source": [
    "df_i_m = df_i[['시군구명', 'cluster_산업경제', '시군구코드']]"
   ]
  },
  {
   "cell_type": "code",
   "execution_count": 7,
   "id": "8c53760b",
   "metadata": {},
   "outputs": [
    {
     "data": {
      "text/html": [
       "<div>\n",
       "<style scoped>\n",
       "    .dataframe tbody tr th:only-of-type {\n",
       "        vertical-align: middle;\n",
       "    }\n",
       "\n",
       "    .dataframe tbody tr th {\n",
       "        vertical-align: top;\n",
       "    }\n",
       "\n",
       "    .dataframe thead th {\n",
       "        text-align: right;\n",
       "    }\n",
       "</style>\n",
       "<table border=\"1\" class=\"dataframe\">\n",
       "  <thead>\n",
       "    <tr style=\"text-align: right;\">\n",
       "      <th></th>\n",
       "      <th>시군구명</th>\n",
       "      <th>cluster_산업경제</th>\n",
       "      <th>시군구코드</th>\n",
       "    </tr>\n",
       "  </thead>\n",
       "  <tbody>\n",
       "    <tr>\n",
       "      <th>0</th>\n",
       "      <td>부산광역시 중구</td>\n",
       "      <td>0</td>\n",
       "      <td>26110</td>\n",
       "    </tr>\n",
       "    <tr>\n",
       "      <th>1</th>\n",
       "      <td>부산광역시 서구</td>\n",
       "      <td>0</td>\n",
       "      <td>26140</td>\n",
       "    </tr>\n",
       "    <tr>\n",
       "      <th>2</th>\n",
       "      <td>부산광역시 동구</td>\n",
       "      <td>0</td>\n",
       "      <td>26170</td>\n",
       "    </tr>\n",
       "    <tr>\n",
       "      <th>3</th>\n",
       "      <td>부산광역시 영도구</td>\n",
       "      <td>0</td>\n",
       "      <td>26200</td>\n",
       "    </tr>\n",
       "    <tr>\n",
       "      <th>4</th>\n",
       "      <td>부산광역시 부산진구</td>\n",
       "      <td>0</td>\n",
       "      <td>26230</td>\n",
       "    </tr>\n",
       "    <tr>\n",
       "      <th>...</th>\n",
       "      <td>...</td>\n",
       "      <td>...</td>\n",
       "      <td>...</td>\n",
       "    </tr>\n",
       "    <tr>\n",
       "      <th>168</th>\n",
       "      <td>충청남도 아산시</td>\n",
       "      <td>2</td>\n",
       "      <td>44200</td>\n",
       "    </tr>\n",
       "    <tr>\n",
       "      <th>169</th>\n",
       "      <td>충청남도 당진시</td>\n",
       "      <td>1</td>\n",
       "      <td>44830</td>\n",
       "    </tr>\n",
       "    <tr>\n",
       "      <th>170</th>\n",
       "      <td>경상남도 김해시</td>\n",
       "      <td>1</td>\n",
       "      <td>48250</td>\n",
       "    </tr>\n",
       "    <tr>\n",
       "      <th>171</th>\n",
       "      <td>부산광역시 기장군</td>\n",
       "      <td>0</td>\n",
       "      <td>26710</td>\n",
       "    </tr>\n",
       "    <tr>\n",
       "      <th>172</th>\n",
       "      <td>충청남도 계룡시</td>\n",
       "      <td>1</td>\n",
       "      <td>44250</td>\n",
       "    </tr>\n",
       "  </tbody>\n",
       "</table>\n",
       "<p>173 rows × 3 columns</p>\n",
       "</div>"
      ],
      "text/plain": [
       "           시군구명  cluster_산업경제  시군구코드\n",
       "0      부산광역시 중구             0  26110\n",
       "1      부산광역시 서구             0  26140\n",
       "2      부산광역시 동구             0  26170\n",
       "3     부산광역시 영도구             0  26200\n",
       "4    부산광역시 부산진구             0  26230\n",
       "..          ...           ...    ...\n",
       "168    충청남도 아산시             2  44200\n",
       "169    충청남도 당진시             1  44830\n",
       "170    경상남도 김해시             1  48250\n",
       "171   부산광역시 기장군             0  26710\n",
       "172    충청남도 계룡시             1  44250\n",
       "\n",
       "[173 rows x 3 columns]"
      ]
     },
     "execution_count": 7,
     "metadata": {},
     "output_type": "execute_result"
    }
   ],
   "source": [
    "df_i_m"
   ]
  },
  {
   "cell_type": "code",
   "execution_count": 8,
   "id": "ec72b5e2",
   "metadata": {},
   "outputs": [],
   "source": [
    "df_pi = pd.merge(df_p, df_i_m, how='outer', on=['시군구명'])"
   ]
  },
  {
   "cell_type": "code",
   "execution_count": 9,
   "id": "9ec1c3c0",
   "metadata": {},
   "outputs": [
    {
     "name": "stdout",
     "output_type": "stream",
     "text": [
      "<class 'pandas.core.frame.DataFrame'>\n",
      "Int64Index: 173 entries, 0 to 172\n",
      "Data columns (total 28 columns):\n",
      " #   Column        Non-Null Count  Dtype  \n",
      "---  ------        --------------  -----  \n",
      " 0   Unnamed: 0    173 non-null    int64  \n",
      " 1   시군구명          173 non-null    object \n",
      " 2   과거대비인구변화      173 non-null    float64\n",
      " 3   최근인구변화        173 non-null    float64\n",
      " 4   과거대비사업체변화     173 non-null    float64\n",
      " 5   최근사업체변화       173 non-null    float64\n",
      " 6   노후건축물비율       173 non-null    float64\n",
      " 7   인구사회          173 non-null    float64\n",
      " 8   여성종사자비율       173 non-null    float64\n",
      " 9   20세미만인구성장률    173 non-null    float64\n",
      " 10  재정자립도         173 non-null    float64\n",
      " 11  경제활동인구대비종사자수  173 non-null    float64\n",
      " 12  특허출원건수        173 non-null    float64\n",
      " 13  1인당주민세        173 non-null    float64\n",
      " 14  1인당공원면적       173 non-null    float64\n",
      " 15  도로밀도          173 non-null    float64\n",
      " 16  1만인당공무원수      173 non-null    float64\n",
      " 17  건축허가면적증감률     173 non-null    float64\n",
      " 18  주민등록인구전출입률    173 non-null    float64\n",
      " 19  폐기물재활용률       173 non-null    float64\n",
      " 20  1만인당사회복지시설수   173 non-null    float64\n",
      " 21  1만인당문화체육시설수   173 non-null    float64\n",
      " 22  1만인당축제건수      173 non-null    float64\n",
      " 23  비영리단체수        173 non-null    float64\n",
      " 24  비영리단체수등급      173 non-null    float64\n",
      " 25  cluster_인구사회  173 non-null    int64  \n",
      " 26  cluster_산업경제  173 non-null    int64  \n",
      " 27  시군구코드         173 non-null    int64  \n",
      "dtypes: float64(23), int64(4), object(1)\n",
      "memory usage: 39.2+ KB\n"
     ]
    }
   ],
   "source": [
    "df_pi.info()"
   ]
  },
  {
   "cell_type": "code",
   "execution_count": 10,
   "id": "a6ad6f1b",
   "metadata": {},
   "outputs": [],
   "source": [
    "df_all = pd.merge(df_pi, df_e[['시군구코드', 'cluster_물리환경']], how='outer', on=['시군구코드'])"
   ]
  },
  {
   "cell_type": "code",
   "execution_count": 11,
   "id": "06628b94",
   "metadata": {},
   "outputs": [
    {
     "name": "stdout",
     "output_type": "stream",
     "text": [
      "<class 'pandas.core.frame.DataFrame'>\n",
      "Int64Index: 173 entries, 0 to 172\n",
      "Data columns (total 29 columns):\n",
      " #   Column        Non-Null Count  Dtype  \n",
      "---  ------        --------------  -----  \n",
      " 0   Unnamed: 0    173 non-null    int64  \n",
      " 1   시군구명          173 non-null    object \n",
      " 2   과거대비인구변화      173 non-null    float64\n",
      " 3   최근인구변화        173 non-null    float64\n",
      " 4   과거대비사업체변화     173 non-null    float64\n",
      " 5   최근사업체변화       173 non-null    float64\n",
      " 6   노후건축물비율       173 non-null    float64\n",
      " 7   인구사회          173 non-null    float64\n",
      " 8   여성종사자비율       173 non-null    float64\n",
      " 9   20세미만인구성장률    173 non-null    float64\n",
      " 10  재정자립도         173 non-null    float64\n",
      " 11  경제활동인구대비종사자수  173 non-null    float64\n",
      " 12  특허출원건수        173 non-null    float64\n",
      " 13  1인당주민세        173 non-null    float64\n",
      " 14  1인당공원면적       173 non-null    float64\n",
      " 15  도로밀도          173 non-null    float64\n",
      " 16  1만인당공무원수      173 non-null    float64\n",
      " 17  건축허가면적증감률     173 non-null    float64\n",
      " 18  주민등록인구전출입률    173 non-null    float64\n",
      " 19  폐기물재활용률       173 non-null    float64\n",
      " 20  1만인당사회복지시설수   173 non-null    float64\n",
      " 21  1만인당문화체육시설수   173 non-null    float64\n",
      " 22  1만인당축제건수      173 non-null    float64\n",
      " 23  비영리단체수        173 non-null    float64\n",
      " 24  비영리단체수등급      173 non-null    float64\n",
      " 25  cluster_인구사회  173 non-null    int64  \n",
      " 26  cluster_산업경제  173 non-null    int64  \n",
      " 27  시군구코드         173 non-null    int64  \n",
      " 28  cluster_물리환경  173 non-null    int64  \n",
      "dtypes: float64(23), int64(5), object(1)\n",
      "memory usage: 40.5+ KB\n"
     ]
    }
   ],
   "source": [
    "df_all.info()"
   ]
  },
  {
   "cell_type": "code",
   "execution_count": 12,
   "id": "7ab97269",
   "metadata": {},
   "outputs": [],
   "source": [
    "df_all['cluster_final'] = df_all['cluster_인구사회'] + df_all['cluster_물리환경'] + df_all['cluster_산업경제']"
   ]
  },
  {
   "cell_type": "code",
   "execution_count": 13,
   "id": "904809c9",
   "metadata": {},
   "outputs": [
    {
     "data": {
      "text/plain": [
       "0      1\n",
       "1      4\n",
       "2      1\n",
       "3      1\n",
       "4      2\n",
       "      ..\n",
       "168    2\n",
       "169    1\n",
       "170    5\n",
       "171    2\n",
       "172    3\n",
       "Name: cluster_final, Length: 173, dtype: int64"
      ]
     },
     "execution_count": 13,
     "metadata": {},
     "output_type": "execute_result"
    }
   ],
   "source": [
    "df_all.cluster_final"
   ]
  },
  {
   "cell_type": "code",
   "execution_count": 14,
   "id": "963fa44a",
   "metadata": {},
   "outputs": [],
   "source": [
    "df_all.to_csv('cluster_final.csv')"
   ]
  },
  {
   "cell_type": "code",
   "execution_count": 15,
   "id": "e90047c3",
   "metadata": {},
   "outputs": [],
   "source": [
    "import folium\n",
    "import json\n",
    "\n",
    "geo_path = 'Data/sig_wgs84.json'\n",
    "geo_str = json.load(open(geo_path, encoding='utf-8'))"
   ]
  },
  {
   "cell_type": "code",
   "execution_count": 20,
   "id": "40a33cf9",
   "metadata": {},
   "outputs": [],
   "source": [
    "df_all['시군구코드'] = df_all.시군구코드.map(lambda x : str(x).zfill(5))"
   ]
  },
  {
   "cell_type": "code",
   "execution_count": 21,
   "id": "47a25f46",
   "metadata": {},
   "outputs": [
    {
     "data": {
      "text/plain": [
       "<folium.map.LayerControl at 0x2d7600a8648>"
      ]
     },
     "execution_count": 21,
     "metadata": {},
     "output_type": "execute_result"
    }
   ],
   "source": [
    "m = folium.Map(location=[36, 127], tiles=\"OpenStreetMap\", zoom_start=7)\n",
    "\n",
    "m.choropleth(\n",
    "    geo_data=geo_str,\n",
    "    name='활성화지표',\n",
    "    data=df_all,\n",
    "    columns=['시군구코드', 'cluster_final'],\n",
    "    key_on='feature.properties.SIG_CD',\n",
    "    fill_color='YlGn',\n",
    "    fill_opacity=0.7,\n",
    "    line_opacity=0.3,\n",
    "    color = 'gray',\n",
    "    legend_name = 'activation'\n",
    ")\n",
    "\n",
    "# https://blog.naver.com/yun9706/222454846442\n",
    "\n",
    "folium.LayerControl().add_to(m)\n"
   ]
  },
  {
   "cell_type": "code",
   "execution_count": 22,
   "id": "82ad246e",
   "metadata": {},
   "outputs": [],
   "source": [
    "\n",
    "# Save to html\n",
    "m.save('folium_kr_최종.html')"
   ]
  },
  {
   "cell_type": "code",
   "execution_count": null,
   "id": "f71a2b9c",
   "metadata": {},
   "outputs": [],
   "source": []
  }
 ],
 "metadata": {
  "kernelspec": {
   "display_name": "py3.7",
   "language": "python",
   "name": "py3.7"
  },
  "language_info": {
   "codemirror_mode": {
    "name": "ipython",
    "version": 3
   },
   "file_extension": ".py",
   "mimetype": "text/x-python",
   "name": "python",
   "nbconvert_exporter": "python",
   "pygments_lexer": "ipython3",
   "version": "3.7.13"
  }
 },
 "nbformat": 4,
 "nbformat_minor": 5
}
